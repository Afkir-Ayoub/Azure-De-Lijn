{
 "cells": [
  {
   "cell_type": "code",
   "execution_count": 0,
   "metadata": {
    "application/vnd.databricks.v1+cell": {
     "cellMetadata": {
      "byteLimit": 2048000,
      "rowLimit": 10000
     },
     "inputWidgets": {},
     "nuid": "54f6fd6c-e2d5-447e-ae48-30f063830b44",
     "showTitle": false,
     "tableResultSettingsMap": {},
     "title": ""
    }
   },
   "outputs": [],
   "source": [
    "# Imports\n",
    "from pyspark.sql.functions import col, to_date, date_format, year, month, dayofweek, length"
   ]
  },
  {
   "cell_type": "code",
   "execution_count": 0,
   "metadata": {
    "application/vnd.databricks.v1+cell": {
     "cellMetadata": {
      "byteLimit": 2048000,
      "rowLimit": 10000
     },
     "inputWidgets": {},
     "nuid": "21cf85d3-4340-4bf7-ae3c-cc982479d226",
     "showTitle": false,
     "tableResultSettingsMap": {},
     "title": ""
    }
   },
   "outputs": [],
   "source": [
    "# Define paths\n",
    "SILVER_PATH = \"/mnt/silver/\"\n",
    "GOLD_PATH = \"/mnt/gold/\"\n"
   ]
  },
  {
   "cell_type": "code",
   "execution_count": 0,
   "metadata": {
    "application/vnd.databricks.v1+cell": {
     "cellMetadata": {
      "byteLimit": 2048000,
      "rowLimit": 10000
     },
     "inputWidgets": {},
     "nuid": "a4a07ba1-282e-4f42-b377-98e4bd3172f7",
     "showTitle": false,
     "tableResultSettingsMap": {},
     "title": ""
    }
   },
   "outputs": [],
   "source": [
    "# Load Silver tables\n",
    "df_realtime = spark.read.format(\"delta\").load(f\"{SILVER_PATH}/realtime_trips\")\n",
    "df_stops = spark.read.format(\"delta\").load(f\"{SILVER_PATH}/stops\")\n",
    "df_trips = spark.read.format(\"delta\").load(f\"{SILVER_PATH}/trips\")\n",
    "df_routes = spark.read.format(\"delta\").load(f\"{SILVER_PATH}/routes\")\n",
    "df_calendar_dates = spark.read.format(\"delta\").load(f\"{SILVER_PATH}/calendar_dates\")"
   ]
  },
  {
   "cell_type": "code",
   "execution_count": 0,
   "metadata": {
    "application/vnd.databricks.v1+cell": {
     "cellMetadata": {
      "byteLimit": 2048000,
      "rowLimit": 10000
     },
     "inputWidgets": {},
     "nuid": "55067a7b-4071-4f57-bc39-2b4eca465a43",
     "showTitle": false,
     "tableResultSettingsMap": {},
     "title": ""
    }
   },
   "outputs": [
    {
     "output_type": "stream",
     "name": "stdout",
     "output_type": "stream",
     "text": [
      "\nAll Dimension tables created successfully.\n"
     ]
    }
   ],
   "source": [
    "# Dimension: DimDate\n",
    "dim_date = (\n",
    "    df_calendar_dates\n",
    "    .withColumn(\"Date\", to_date(col(\"date\").cast(\"string\"), \"yyyyMMdd\"))\n",
    "    .select(\n",
    "        col(\"date\").alias(\"DateKey\"),\n",
    "        col(\"Date\"),\n",
    "        year(\"Date\").alias(\"Year\"),\n",
    "        month(\"Date\").alias(\"Month\"),\n",
    "        dayofweek(\"Date\").alias(\"DayOfWeek\"),\n",
    "        date_format(\"Date\", \"EEEE\").alias(\"DayName\"),\n",
    "        col(\"service_id\").alias(\"ServiceKey\")\n",
    "    )\n",
    "    .distinct()\n",
    ")\n",
    "dim_date.write.format(\"delta\").mode(\"overwrite\").save(f\"{GOLD_PATH}/DimDate\")\n",
    "\n",
    "# Dimension: DimStop\n",
    "dim_stop = df_stops.select(\n",
    "    col(\"stop_id\").alias(\"StopKey\"),\n",
    "    col(\"stop_name\").alias(\"StopName\"),\n",
    "    col(\"latitude\").alias(\"Latitude\"),\n",
    "    col(\"longitude\").alias(\"Longitude\"),\n",
    "    col(\"wheelchair_boarding\").alias(\"WheelchairAccessible\")\n",
    ")\n",
    "dim_stop.write.format(\"delta\").mode(\"overwrite\").save(f\"{GOLD_PATH}/DimStop\")\n",
    "\n",
    "# Dimension: DimRoute\n",
    "dim_route = df_routes.select(\n",
    "    col(\"route_id\").alias(\"RouteKey\"),\n",
    "    col(\"route_long_name\").alias(\"RouteName\"),\n",
    "    col(\"route_short_name\").alias(\"RouteAlias\"),\n",
    "    col(\"route_type\").alias(\"RouteType\")\n",
    ")\n",
    "dim_route.write.format(\"delta\").mode(\"overwrite\").save(f\"{GOLD_PATH}/DimRoute\")\n",
    "\n",
    "# Dimension: DimTrip\n",
    "dim_trip = df_trips.select(\n",
    "    col(\"trip_id\").alias(\"TripKey\"),\n",
    "    col(\"route_id\").alias(\"RouteKey\"), # FK to DimRoute\n",
    "    col(\"service_id\").alias(\"ServiceKey\"), # FK to DimDate\n",
    "    col(\"shape_id\").alias(\"ShapeKey\"), # FK to DimShape\n",
    ")\n",
    "dim_trip.write.format(\"delta\").mode(\"overwrite\").save(f\"{GOLD_PATH}/DimTrip\")\n",
    "\n",
    "# Dimension: DimVehicle\n",
    "dim_vehicle = df_realtime.select(col(\"vehicle_id\").alias(\"VehicleKey\")).distinct()\n",
    "dim_vehicle.write.format(\"delta\").mode(\"overwrite\").save(f\"{GOLD_PATH}/DimVehicle\")\n",
    "\n",
    "print(\"\\nAll Dimension tables created successfully.\")"
   ]
  },
  {
   "cell_type": "code",
   "execution_count": 0,
   "metadata": {
    "application/vnd.databricks.v1+cell": {
     "cellMetadata": {
      "byteLimit": 2048000,
      "rowLimit": 10000
     },
     "inputWidgets": {},
     "nuid": "e881cccf-d29c-4ada-aa13-c23d9171b863",
     "showTitle": false,
     "tableResultSettingsMap": {},
     "title": ""
    }
   },
   "outputs": [
    {
     "output_type": "stream",
     "name": "stdout",
     "output_type": "stream",
     "text": [
      "Fact table created successfully.\n"
     ]
    }
   ],
   "source": [
    "# Facts: FactVehicleUpdates\n",
    "base_facts = df_realtime.select(\n",
    "    to_date(col(\"event_timestamp\")).alias(\"EventDate\"),\n",
    "    col(\"trip_id\").alias(\"TripKey\"),\n",
    "    col(\"stop_id\").alias(\"StopKey\"),\n",
    "    col(\"vehicle_id\").alias(\"VehicleKey\"),\n",
    "    col(\"stop_sequence\").alias(\"StopSequence\"),\n",
    "    col(\"arrival_delay_seconds\").alias(\"ArrivalDelaySeconds\"),\n",
    "    col(\"arrival_timestamp\").alias(\"ArrivalTime\"),\n",
    "    col(\"departure_delay_seconds\").alias(\"DepartureDelaySeconds\"),\n",
    "    col(\"departure_timestamp\").alias(\"DepartureTime\"),\n",
    "    col(\"latitude\").alias(\"Latitude\"),\n",
    "    col(\"longitude\").alias(\"Longitude\"),\n",
    ")\n",
    "\n",
    "# Enriching\n",
    "fact_enriched = (\n",
    "    base_facts\n",
    "    .join(dim_trip, on=\"TripKey\", how=\"left\")\n",
    "    .join(dim_date,\n",
    "          (base_facts.EventDate == dim_date.Date) & (dim_trip.ServiceKey == dim_date.ServiceKey),\n",
    "          how=\"left\"\n",
    "    )\n",
    "    .select(\n",
    "        col(\"DateKey\"),\n",
    "        col(\"StopKey\"),\n",
    "        col(\"RouteKey\"),\n",
    "        col(\"TripKey\"),\n",
    "        col(\"VehicleKey\"),\n",
    "        col(\"ShapeKey\"),\n",
    "        col(\"StopSequence\"),\n",
    "        col(\"ArrivalDelaySeconds\"),\n",
    "        col(\"ArrivalTime\"),\n",
    "        col(\"DepartureDelaySeconds\"),\n",
    "        col(\"DepartureTime\"),\n",
    "        col(\"Latitude\"),\n",
    "        col(\"Longitude\"),\n",
    "    )\n",
    ")\n",
    "\n",
    "fact_enriched.write.format(\"delta\").partitionBy(\"DateKey\").mode(\"overwrite\").save(f\"{GOLD_PATH}/FactVehicleUpdates\")\n",
    "\n",
    "print(\"Fact table created successfully.\")"
   ]
  }
 ],
 "metadata": {
  "application/vnd.databricks.v1+notebook": {
   "computePreferences": null,
   "dashboards": [],
   "environmentMetadata": {
    "base_environment": "",
    "environment_version": "2"
   },
   "inputWidgetPreferences": null,
   "language": "python",
   "notebookMetadata": {
    "pythonIndentUnit": 4
   },
   "notebookName": "20_silver",
   "widgets": {}
  },
  "language_info": {
   "name": "python"
  }
 },
 "nbformat": 4,
 "nbformat_minor": 0
}
