{
 "cells": [
  {
   "cell_type": "markdown",
   "metadata": {
    "application/vnd.databricks.v1+cell": {
     "cellMetadata": {},
     "inputWidgets": {},
     "nuid": "62786e75-c7a0-4322-9458-a23436efef99",
     "showTitle": false,
     "tableResultSettingsMap": {},
     "title": ""
    }
   },
   "source": [
    "# One-Time Setup: Mount ADLS Gen2 Storage\n",
    "\n",
    "This notebook creates persistent mount points to our ADLS Gen2 containers.\n",
    "\n",
    "**You only need to run this code once for the entire workspace.** The mounts will remain available until they are explicitly unmounted."
   ]
  },
  {
   "cell_type": "code",
   "execution_count": 0,
   "metadata": {
    "application/vnd.databricks.v1+cell": {
     "cellMetadata": {
      "byteLimit": 2048000,
      "rowLimit": 10000
     },
     "inputWidgets": {},
     "nuid": "f63debba-7950-4cf1-b96e-e62ef524dfbe",
     "showTitle": false,
     "tableResultSettingsMap": {},
     "title": ""
    }
   },
   "outputs": [],
   "source": [
    "# TO FILL IN\n",
    "TENANT_ID = \"\"\n",
    "CLIENT_ID = \"\"\n",
    "CLIENT_SECRET = \"\" \n",
    "STORAGE_ACCOUNT_NAME = \"\" \n",
    "\n",
    "configs = {\n",
    "  \"fs.azure.account.auth.type\": \"OAuth\",\n",
    "  \"fs.azure.account.oauth.provider.type\": \"org.apache.hadoop.fs.azurebfs.oauth2.ClientCredsTokenProvider\",\n",
    "  \"fs.azure.account.oauth2.client.id\": CLIENT_ID,\n",
    "  \"fs.azure.account.oauth2.client.secret\": CLIENT_SECRET,\n",
    "  \"fs.azure.account.oauth2.client.endpoint\": f\"https://login.microsoftonline.com/{TENANT_ID}/oauth2/token\"\n",
    "}\n",
    "\n",
    "# Mount the bronze, silver, and gold containers\n",
    "for container in [\"bronze\", \"silver\", \"gold\"]:\n",
    "  mount_point = f\"/mnt/{container}\"\n",
    "  source_uri = f\"abfss://{container}@{STORAGE_ACCOUNT_NAME}.dfs.core.windows.net/\"\n",
    "  \n",
    "  try:\n",
    "    if any(mount.mountPoint == mount_point for mount in dbutils.fs.mounts()):\n",
    "      print(f\"Unmounting existing mount point: {mount_point}\")\n",
    "      dbutils.fs.unmount(mount_point)\n",
    "  except Exception as e:\n",
    "    print(f\"Error unmounting {mount_point}: {e}\")\n",
    "    \n",
    "  try:\n",
    "    print(f\"Mounting {source_uri} to {mount_point}...\")\n",
    "    dbutils.fs.mount(\n",
    "      source = source_uri,\n",
    "      mount_point = mount_point,\n",
    "      extra_configs = configs\n",
    "    )\n",
    "    print(f\"Successfully mounted {mount_point}\")\n",
    "  except Exception as e:\n",
    "    print(f\"!!! ERROR mounting {mount_point}: {e}\")"
   ]
  }
 ],
 "metadata": {
  "application/vnd.databricks.v1+notebook": {
   "computePreferences": null,
   "dashboards": [],
   "environmentMetadata": {
    "base_environment": "",
    "environment_version": "2"
   },
   "inputWidgetPreferences": null,
   "language": "python",
   "notebookMetadata": {
    "pythonIndentUnit": 4
   },
   "notebookName": "00_setup",
   "widgets": {}
  },
  "language_info": {
   "name": "python"
  }
 },
 "nbformat": 4,
 "nbformat_minor": 0
}
